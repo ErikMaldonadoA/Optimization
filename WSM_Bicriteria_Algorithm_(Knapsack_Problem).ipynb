{
  "nbformat": 4,
  "nbformat_minor": 0,
  "metadata": {
    "colab": {
      "provenance": []
    },
    "kernelspec": {
      "name": "python3",
      "display_name": "Python 3"
    },
    "language_info": {
      "name": "python"
    }
  },
  "cells": [
    {
      "cell_type": "markdown",
      "source": [
        "\n",
        "### ***Weighted Sum Method Bicriteria Algorithm***\n",
        "***Based on Aneja, Y.P. & Nair, P.K. (1979)***  \n",
        "**coded by: Erik Maldonado Ascanio**"
      ],
      "metadata": {
        "id": "hTaiTVXlEysZ"
      }
    },
    {
      "cell_type": "markdown",
      "source": [
        "*1) Install gurobi and import packages*\n",
        "\n"
      ],
      "metadata": {
        "id": "6a5gptX99ETd"
      }
    },
    {
      "cell_type": "code",
      "source": [
        "!pip install gurobipy\n",
        "import numpy as np\n",
        "import gurobipy as gp\n",
        "import matplotlib.pyplot as plt"
      ],
      "metadata": {
        "id": "XHDCqQi0488n"
      },
      "execution_count": null,
      "outputs": []
    },
    {
      "cell_type": "markdown",
      "source": [
        "*2) Input values and ranges*"
      ],
      "metadata": {
        "id": "4Z8jtey6-_RD"
      }
    },
    {
      "cell_type": "code",
      "execution_count": null,
      "metadata": {
        "id": "39nXcJdNDQ8t"
      },
      "outputs": [],
      "source": [
        "try:\n",
        "  option = int(input('Select 1 for random test values, 2 for predefined test values or 3 to input data:'))\n",
        "\n",
        "  if option == 1:\n",
        "\n",
        "    size = int(input('Enter the number of variables:'))\n",
        "\n",
        "    input_r1 = input('Range 1: enter min and max values in objective 1 (separated by comma):')\n",
        "    minr1, maxr1 = input_r1.split(\",\")\n",
        "    r1 = np.random.randint(int(minr1), int(maxr1), size=size)\n",
        "\n",
        "    input_r2 = input('Range 2: enter min and max values in objective 2 (separated by comma):')\n",
        "    minr2, maxr2 = input_r2.split(\",\")\n",
        "    r2 = np.random.randint(int(minr2), int(maxr2), size=size)\n",
        "\n",
        "    input_r3 = input('Range 3: enter min and max values in constraint (separated by comma):')\n",
        "    minr3, maxr3 = input_r3.split(\",\")\n",
        "    r3 = np.random.randint(int(minr3), int(maxr3), size=size)\n",
        "\n",
        "  elif option == 2:\n",
        "    size = 15\n",
        "    r1 = [19, 5, 1, 14, 4, 1, 11, 7, 3, 4, 12, 6, 15, 9, 10]\n",
        "    r2 = [4, 6, 3, 9, 4, 8, 19, 6, 6, 5, 10, 8, 9, 15, 7]\n",
        "    r3 = [13, 9, 14, 8, 4, 10, 8, 9, 5, 6, 6, 3, 9, 8, 10]\n",
        "\n",
        "  else:\n",
        "    while True:\n",
        "      input_r1 = input(\"Range 1: enter objective 1 values (separated by comma): \")\n",
        "      r1 = list(map(int, input_r1.split(\",\")))\n",
        "      input_r2 = input(\"Range 2: enter objective 2 values (separated by comma): \")\n",
        "      r2 = list(map(int, input_r2.split(\",\")))\n",
        "      input_r3 = input(\"Range 3: enter constraint values (separated by comma): \")\n",
        "      r3 = list(map(int, input_r3.split(\",\")))\n",
        "      if len(r1) == len(r2) and len(r2) == len(r3):\n",
        "        size = len(r1)\n",
        "        break\n",
        "      else:\n",
        "        print('Ranges are not the same lenght')\n",
        "\n",
        "  while True:\n",
        "    capacity = int(input(\"Enter the capacity: \"))\n",
        "    r3min = min(r3)\n",
        "    r3sum = sum(r3)\n",
        "    if capacity > r3min and capacity < r3sum:\n",
        "      break\n",
        "    else:\n",
        "      print('Capacity value not valid.')\n",
        "\n",
        "  print('Range 1 (objective 1): ', r1)\n",
        "  print('Range 2 (objective 1): ', r2)\n",
        "  print('Range 3 (constraint): ', r3)\n",
        "except:\n",
        "  print('Input error, please check the values.')\n"
      ]
    },
    {
      "cell_type": "markdown",
      "source": [
        "*3) Optimization Model*"
      ],
      "metadata": {
        "id": "-reuv2yTEeqy"
      }
    },
    {
      "cell_type": "code",
      "source": [
        "pointslist = list()\n",
        "\n",
        "model = gp.Model()\n",
        "x = model.addVars(size, name=\"x\", vtype=gp.GRB.BINARY)\n",
        "\n",
        "z1 = gp.quicksum(r1[i] * x[i] for i in range(size))\n",
        "z2 = gp.quicksum(r2[i] * x[i] for i in range(size))\n",
        "constraint = gp.quicksum(r3[i] * x[i] for i in range(size))\n",
        "model.addConstr(constraint <= capacity)\n",
        "model.setParam('OutputFlag',False)\n",
        "\n",
        "# STEP 0\n",
        "model.setObjective(z1, gp.GRB.MAXIMIZE)\n",
        "model.optimize()\n",
        "z11 = model.objval\n",
        "\n",
        "tmpconstr = model.addConstr(z1 >= z11)\n",
        "model.setObjective(z2, gp.GRB.MAXIMIZE)\n",
        "model.optimize()\n",
        "z21 = model.objval\n",
        "model.remove(tmpconstr)\n",
        "\n",
        "pointslist.append((z11,z21))\n",
        "k = 1\n",
        "\n",
        "model.setObjective(z2, gp.GRB.MAXIMIZE)\n",
        "model.optimize()\n",
        "z22 = model.objval\n",
        "\n",
        "tmpconstr = model.addConstr(z2 >= z22)\n",
        "model.setObjective(z1, gp.GRB.MAXIMIZE)\n",
        "model.optimize()\n",
        "z12 = model.objval\n",
        "model.remove(tmpconstr)\n",
        "\n",
        "pointslist.append((z12,z22))\n",
        "\n",
        "if pointslist[0] == pointslist[1]:\n",
        "  print('The solution for z1, z2 is :', pointslist[1],'And the x values are:')\n",
        "  for v in model.getVars():\n",
        "    print(v.varName, ': ',v.x)\n",
        "else:\n",
        "  k += 1\n",
        "  Lindex = [(1,2)]\n",
        "\n",
        "  # STEP 1\n",
        "\n",
        "  #choose a random L tuple\n",
        "  while True:\n",
        "      if len(Lindex) > 1:\n",
        "        Lrnd = np.random.randint(0, len(Lindex)-1)\n",
        "      else:\n",
        "        Lrnd=0\n",
        "\n",
        "      r = Lindex[Lrnd][0]\n",
        "      s = Lindex[Lrnd][1]\n",
        "      a1rs = abs(pointslist[s-1][1] - pointslist[r-1][1])\n",
        "      a2rs = abs(pointslist[s-1][0] - pointslist[r-1][0])\n",
        "\n",
        "      zbar = a1rs * z1 + a2rs * z2\n",
        "\n",
        "      model.setObjective(zbar, gp.GRB.MAXIMIZE)\n",
        "      model.optimize()\n",
        "      zbar1 = z1.getValue()\n",
        "      zbar2 = z2.getValue()\n",
        "\n",
        "      if (zbar1,zbar2) == (pointslist[r-1][0],pointslist[r-1][1]) or (zbar1,zbar2) == (pointslist[s-1][0],pointslist[s-1][1]):\n",
        "        Lindex.remove((r,s))\n",
        "      else:\n",
        "        pointslist.append((zbar1,zbar2))\n",
        "        k+=1\n",
        "        Lindex.remove((r,s))\n",
        "        Lindex.append((r,k))\n",
        "        Lindex.append((k,s))\n",
        "\n",
        "      if len(Lindex)==0:\n",
        "        break\n",
        "\n",
        "  print(\"Solution points: \",pointslist)"
      ],
      "metadata": {
        "id": "SEoR93X2-v9I"
      },
      "execution_count": null,
      "outputs": []
    },
    {
      "cell_type": "markdown",
      "source": [
        "*4) Dot Diagram*"
      ],
      "metadata": {
        "id": "5__aANtyFGAI"
      }
    },
    {
      "cell_type": "code",
      "source": [
        "x_coords = [x for x, y in pointslist]\n",
        "y_coords = [y for x, y in pointslist]\n",
        "plt.plot(x_coords, y_coords, '.')\n",
        "plt.show()"
      ],
      "metadata": {
        "id": "KjFACqSsBvCz"
      },
      "execution_count": null,
      "outputs": []
    }
  ]
}